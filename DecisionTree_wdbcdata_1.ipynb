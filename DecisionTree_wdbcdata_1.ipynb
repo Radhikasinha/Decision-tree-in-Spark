{
 "cells": [
  {
   "cell_type": "code",
   "execution_count": 1,
   "metadata": {},
   "outputs": [],
   "source": [
    "from pyspark.mllib.tree import DecisionTree, DecisionTreeModel\n",
    "from pyspark.mllib.util import MLUtils\n",
    "from pyspark.mllib.regression import LabeledPoint\n",
    "from pyspark import SparkConf, SparkContext\n",
    "from numpy import array"
   ]
  },
  {
   "cell_type": "code",
   "execution_count": 2,
   "metadata": {},
   "outputs": [],
   "source": [
    "def numClass(elem):\n",
    "    '''Function which transform \"B\" into 1 and else things into 0\n",
    "    - elem : string\n",
    "    - return : vector\n",
    "    '''\n",
    "     \n",
    "    if elem == 'B' :\n",
    "        return 1\n",
    "    else :\n",
    "        return 0"
   ]
  },
  {
   "cell_type": "code",
   "execution_count": 35,
   "metadata": {},
   "outputs": [],
   "source": [
    "#convert a list of raw fields from csv file to a\n",
    "#LabeledPoint that MLib can use.All data must be numerical\n",
    "def createLabeledPoint(fields):\n",
    "    #print(\"good\")\n",
    "    #print(type(fields))\n",
    "    f1 = []\n",
    "    f1.append(fields[0])\n",
    "    j= range(2,31)\n",
    "    for i in j:\n",
    "        f1.append(fields[i])\n",
    "    f=numClass(fields[1])\n",
    "    \n",
    "    return LabeledPoint(f,f1)"
   ]
  },
  {
   "cell_type": "code",
   "execution_count": 36,
   "metadata": {},
   "outputs": [],
   "source": [
    "\n",
    "conf=SparkConf().setMaster(\"local\").setAppName(\"Decision Tree\")\n",
    "sc= SparkContext(conf=conf)"
   ]
  },
  {
   "cell_type": "code",
   "execution_count": 37,
   "metadata": {},
   "outputs": [],
   "source": [
    "data = sc.textFile(\"C:/Users/radhi/Desktop/BigData/wdbc1.txt\")"
   ]
  },
  {
   "cell_type": "code",
   "execution_count": 38,
   "metadata": {},
   "outputs": [
    {
     "data": {
      "text/plain": [
       "569"
      ]
     },
     "execution_count": 38,
     "metadata": {},
     "output_type": "execute_result"
    }
   ],
   "source": [
    "data.count()"
   ]
  },
  {
   "cell_type": "code",
   "execution_count": 39,
   "metadata": {},
   "outputs": [],
   "source": [
    "#split each line into a list based on comma delimiter \n",
    "data1= data.map(lambda x: x.split(\",\"))"
   ]
  },
  {
   "cell_type": "code",
   "execution_count": 40,
   "metadata": {},
   "outputs": [],
   "source": [
    "#Convert these list to LabeledPoints\n",
    "data2 = data1.map(createLabeledPoint)"
   ]
  },
  {
   "cell_type": "code",
   "execution_count": 41,
   "metadata": {},
   "outputs": [
    {
     "data": {
      "text/plain": [
       "569"
      ]
     },
     "execution_count": 41,
     "metadata": {},
     "output_type": "execute_result"
    }
   ],
   "source": [
    "data2.count()\n"
   ]
  },
  {
   "cell_type": "code",
   "execution_count": 42,
   "metadata": {},
   "outputs": [],
   "source": [
    "#randomly spliting whole dataset into training and testing\n",
    "(trainingData, testData) = data2.randomSplit([0.7, 0.3])"
   ]
  },
  {
   "cell_type": "code",
   "execution_count": null,
   "metadata": {},
   "outputs": [],
   "source": [
    "#train DecisionTree Classifier using trainingData set\n",
    "model_rf = DecisionTree.trainClassifier(trainingData,numClasses=2,\n",
    "        categoricalFeaturesInfo = {},\n",
    "        impurity='entropy', maxDepth=3, maxBins=32)"
   ]
  },
  {
   "cell_type": "code",
   "execution_count": 44,
   "metadata": {},
   "outputs": [],
   "source": [
    "predictions = model_rf.predict(testData.map(lambda x: x.features))\n",
    "labelsAndPredictions = testData.map(lambda lp: lp.label).zip(predictions)"
   ]
  },
  {
   "cell_type": "code",
   "execution_count": 45,
   "metadata": {},
   "outputs": [],
   "source": [
    "c=testData.map(lambda lp: lp.label)"
   ]
  },
  {
   "cell_type": "code",
   "execution_count": 46,
   "metadata": {},
   "outputs": [],
   "source": [
    "a = c.collect()"
   ]
  },
  {
   "cell_type": "code",
   "execution_count": 47,
   "metadata": {},
   "outputs": [
    {
     "data": {
      "text/plain": [
       "159"
      ]
     },
     "execution_count": 47,
     "metadata": {},
     "output_type": "execute_result"
    }
   ],
   "source": [
    "len(a)"
   ]
  },
  {
   "cell_type": "code",
   "execution_count": 48,
   "metadata": {},
   "outputs": [],
   "source": [
    "b = predictions.collect()"
   ]
  },
  {
   "cell_type": "code",
   "execution_count": 49,
   "metadata": {},
   "outputs": [
    {
     "data": {
      "text/plain": [
       "159"
      ]
     },
     "execution_count": 49,
     "metadata": {},
     "output_type": "execute_result"
    }
   ],
   "source": [
    "len(b)"
   ]
  },
  {
   "cell_type": "code",
   "execution_count": 50,
   "metadata": {},
   "outputs": [
    {
     "data": {
      "text/plain": [
       "array([[53,  3],\n",
       "       [12, 91]], dtype=int64)"
      ]
     },
     "execution_count": 50,
     "metadata": {},
     "output_type": "execute_result"
    }
   ],
   "source": [
    "confusion_matrix(a,b)"
   ]
  },
  {
   "cell_type": "code",
   "execution_count": 51,
   "metadata": {},
   "outputs": [
    {
     "data": {
      "image/png": "[encoded data removed]",
      "text/plain": [
       "<Figure size 432x288 with 1 Axes>"
      ]
     },
     "metadata": {},
     "output_type": "display_data"
    }
   ],
   "source": [
    "from sklearn.metrics import confusion_matrix\n",
    "import matplotlib.pyplot as plt\n",
    "import numpy as np\n",
    "import pandas as pd\n",
    "classNames = ['0,0','1.0']\n",
    "conf1=confusion_matrix(a, b)\n",
    "#plt.imshow(conf1, cmap='binary', interpolation='None')\n",
    "#plt.show()\n",
    "plt.clf()\n",
    "plt.imshow(conf1, interpolation='None', cmap=plt.cm.Wistia)\n",
    "classNames = ['1.0','0.0']\n",
    "#plt.title('Versicolor or Not Versicolor Confusion Matrix - Test Data')\n",
    "plt.ylabel('True label')\n",
    "plt.xlabel('Predicted label')\n",
    "tick_marks = np.arange(len(classNames))\n",
    "plt.xticks(tick_marks, classNames, rotation=90)\n",
    "plt.yticks(tick_marks, classNames)\n",
    "s = [['TP','FN'], ['FP', 'TN']]\n",
    "for i in range(2):\n",
    "    for j in range(2):\n",
    "        plt.text(j,i, str(s[i][j])+\" = \"+str(conf1[i][j]))\n",
    "plt.show()"
   ]
  },
  {
   "cell_type": "code",
   "execution_count": 52,
   "metadata": {},
   "outputs": [
    {
     "name": "stdout",
     "output_type": "stream",
     "text": [
      "DecisionTreeModel classifier of depth 3 with 15 nodes\n",
      "  If (feature 23 <= 104.94999999999999)\n",
      "   If (feature 27 <= 0.38)\n",
      "    If (feature 11 <= 0.6084)\n",
      "     Predict: 1.0\n",
      "    Else (feature 11 > 0.6084)\n",
      "     Predict: 0.0\n",
      "   Else (feature 27 > 0.38)\n",
      "    If (feature 25 <= 0.16394999999999998)\n",
      "     Predict: 1.0\n",
      "    Else (feature 25 > 0.16394999999999998)\n",
      "     Predict: 0.0\n",
      "  Else (feature 23 > 104.94999999999999)\n",
      "   If (feature 8 <= 0.051855)\n",
      "    If (feature 22 <= 26.32)\n",
      "     Predict: 1.0\n",
      "    Else (feature 22 > 26.32)\n",
      "     Predict: 0.0\n",
      "   Else (feature 8 > 0.051855)\n",
      "    If (feature 2 <= 15.495000000000001)\n",
      "     Predict: 0.0\n",
      "    Else (feature 2 > 15.495000000000001)\n",
      "     Predict: 0.0\n",
      "\n"
     ]
    }
   ],
   "source": [
    "#print decision tree\n",
    "print(model_rf.toDebugString())"
   ]
  },
  {
   "cell_type": "code",
   "execution_count": null,
   "metadata": {},
   "outputs": [],
   "source": []
  },
  {
   "cell_type": "code",
   "execution_count": null,
   "metadata": {},
   "outputs": [],
   "source": []
  }
 ],
 "metadata": {
  "kernelspec": {
   "display_name": "Python 3",
   "language": "python",
   "name": "python3"
  },
  "language_info": {
   "codemirror_mode": {
    "name": "ipython",
    "version": 3
   },
   "file_extension": ".py",
   "mimetype": "text/x-python",
   "name": "python",
   "nbconvert_exporter": "python",
   "pygments_lexer": "ipython3",
   "version": "3.6.5"
  }
 },
 "nbformat": 4,
 "nbformat_minor": 2
}
